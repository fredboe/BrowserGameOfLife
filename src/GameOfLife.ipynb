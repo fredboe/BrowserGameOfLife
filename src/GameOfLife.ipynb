{
 "cells": [
  {
   "cell_type": "markdown",
   "id": "878c5495",
   "metadata": {},
   "source": [
    "# Game of life"
   ]
  },
  {
   "cell_type": "code",
   "execution_count": 14,
   "id": "ad328d1a",
   "metadata": {},
   "outputs": [],
   "source": [
    "import tensorflow as tf\n",
    "import numpy as np"
   ]
  },
  {
   "cell_type": "markdown",
   "id": "0445e0b6",
   "metadata": {},
   "source": [
    "## Game of life rules:\n",
    "----------------------------------------------\n",
    "1. If cell is dead and has 3 alive neighbors, it is alive in the next state.\n",
    "2. If cell is alive and has 2 or 3 neighbors, it stays alive.\n",
    "3. If cell is alive and has less than 2 neighbors, it will die.\n",
    "4. If cell is alive and has more than 3 neighbors, it will die."
   ]
  },
  {
   "cell_type": "code",
   "execution_count": 15,
   "id": "0558679e",
   "metadata": {},
   "outputs": [],
   "source": [
    "\n",
    "def next_state(inputs):\n",
    "    current_state = inputs[0]\n",
    "    count_alive = inputs[1]\n",
    "    if current_state == 0 and count_alive == 3:\n",
    "        return 1\n",
    "    elif current_state == 1 and (count_alive == 2 or count_alive == 3):\n",
    "        return 1\n",
    "    else:\n",
    "        return 0\n",
    "    "
   ]
  },
  {
   "cell_type": "markdown",
   "id": "b1bec5bc",
   "metadata": {},
   "source": [
    "## Board class\n",
    "The board class stores one tensor for the board, a kernel (that contains only ones) and a result tensor that stores the temporary convolution.\n",
    "\n",
    "#### Update:\n",
    "First we calculate the convolution with the kernel tensor (we add up all the neighbor values). Then we subtract the current value of the cell (so we then have the alive counter for the neighbors). Then we apply the next_state function \n",
    "to each pair of self.tensor_res and self.tensor_board and we store the results in self.tensor_board. By this we calculate the next state for each cell. \n",
    "\n",
    "--------------------------------------------------\n",
    "\n",
    "#### Render:\n",
    "test\n",
    "\n",
    "---------------------------------------------------------\n",
    "\n",
    "Reshaping is just there to use the inbuilt tensorflow functions correctly."
   ]
  },
  {
   "cell_type": "code",
   "execution_count": 16,
   "id": "06f537e8",
   "metadata": {},
   "outputs": [],
   "source": [
    "\n",
    "class Board:\n",
    "    def __init__(self, x, y):\n",
    "        self.tensor_board  = tf.random.uniform(shape=(x, y), dtype=tf.int32, maxval=2)\n",
    "        self.tensor_kernel = tf.reshape(tf.constant([[1,1,1], [1,1,1], [1,1,1]],\n",
    "                                             dtype=tf.int32), [3, 3, 1, 1])\n",
    "        self.tensor_res    = tf.zeros(shape=(x * y,), dtype=tf.int32)\n",
    "\n",
    "        self.x = x\n",
    "        self.y = y\n",
    "\n",
    "    def update(self):\n",
    "        self.tensor_res   = tf.reshape(tf.nn.convolution(tf.reshape(self.tensor_board, [1, self.x, self.y, 1]),\n",
    "                                        self.tensor_kernel, padding='SAME'), (self.x * self.y,))\n",
    "        self.subtract_and_then_apply_next_state()\n",
    "        \n",
    "    def subtract_and_then_apply_next_state(self):\n",
    "        self.tensor_board = tf.reshape(self.tensor_board, shape=(self.x * self.y,))\n",
    "        self.tensor_res  -= self.tensor_board\n",
    "        self.tensor_board = tf.map_fn(next_state, elems=tf.transpose([self.tensor_board, self.tensor_res]))\n",
    "        self.tensor_board = tf.reshape(self.tensor_board, shape=(self.x, self.y))\n",
    "        \n",
    "    def render(self):\n",
    "        print(self.tensor_board)\n",
    "\n",
    "    def __repr__(self):\n",
    "        return repr(self.tensor_board)\n",
    "    \n",
    "    def __str__ (self):\n",
    "        return str(self.tensor_board)\n",
    "\n"
   ]
  },
  {
   "cell_type": "code",
   "execution_count": 17,
   "id": "e2bc67a9",
   "metadata": {},
   "outputs": [
    {
     "name": "stdout",
     "output_type": "stream",
     "text": [
      "tf.Tensor(\n",
      "[[1 1 0 0 0 1 1 0 1 1]\n",
      " [1 1 1 1 0 0 1 0 0 0]\n",
      " [1 0 0 1 0 0 0 0 0 0]\n",
      " [1 0 0 1 0 1 1 0 0 1]\n",
      " [1 0 1 0 0 1 1 0 0 0]\n",
      " [0 1 1 0 0 1 1 1 0 0]\n",
      " [1 1 1 0 0 0 1 1 0 1]\n",
      " [0 0 1 1 1 0 1 0 1 1]\n",
      " [1 1 1 0 1 0 1 1 1 0]\n",
      " [1 1 1 0 1 1 1 0 0 0]], shape=(10, 10), dtype=int32)\n",
      "tf.Tensor(\n",
      "[[1 0 0 0 0 1 1 1 0 0]\n",
      " [0 0 0 1 1 1 1 1 0 0]\n",
      " [1 0 0 1 0 1 1 0 0 0]\n",
      " [1 0 1 1 0 1 1 0 0 0]\n",
      " [1 0 1 1 0 0 0 0 0 0]\n",
      " [0 0 0 1 0 0 0 0 1 0]\n",
      " [1 0 0 0 1 0 0 0 0 1]\n",
      " [0 0 0 0 1 0 0 0 0 1]\n",
      " [1 0 0 0 0 0 0 0 1 1]\n",
      " [1 0 1 0 1 0 1 0 0 0]], shape=(10, 10), dtype=int32)\n"
     ]
    }
   ],
   "source": [
    "\n",
    "board = Board(10, 10)\n",
    "print(board)\n",
    "board.update()\n",
    "print(board)\n"
   ]
  },
  {
   "cell_type": "code",
   "execution_count": null,
   "id": "0b0767e6",
   "metadata": {},
   "outputs": [],
   "source": []
  }
 ],
 "metadata": {
  "kernelspec": {
   "display_name": "Python 3",
   "language": "python",
   "name": "python3"
  },
  "language_info": {
   "codemirror_mode": {
    "name": "ipython",
    "version": 3
   },
   "file_extension": ".py",
   "mimetype": "text/x-python",
   "name": "python",
   "nbconvert_exporter": "python",
   "pygments_lexer": "ipython3",
   "version": "3.8.8"
  }
 },
 "nbformat": 4,
 "nbformat_minor": 5
}
